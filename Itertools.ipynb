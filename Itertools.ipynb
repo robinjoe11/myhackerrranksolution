{
 "cells": [
  {
   "cell_type": "markdown",
   "metadata": {},
   "source": [
    "Itertools"
   ]
  },
  {
   "cell_type": "markdown",
   "metadata": {},
   "source": [
    "1) Itertools.product()\n"
   ]
  },
  {
   "cell_type": "code",
   "execution_count": null,
   "metadata": {},
   "outputs": [],
   "source": [
    "from itertools import product\n",
    "\n",
    "A = list (map(int,input().split()))\n",
    "B = list (map(int, input().split()))\n",
    "\n",
    "print (*sorted (list(product(A,B))))\n"
   ]
  },
  {
   "cell_type": "markdown",
   "metadata": {},
   "source": [
    "2) itertools.permutations()"
   ]
  },
  {
   "cell_type": "code",
   "execution_count": null,
   "metadata": {},
   "outputs": [],
   "source": [
    "from itertools import permutations\n",
    "\n",
    "s,k = input ().split()\n",
    "perms = permutations(s,int(k))\n",
    "perms =sorted(perms)\n",
    "for i in perms:\n",
    "    print (''.join(i))\n"
   ]
  },
  {
   "cell_type": "markdown",
   "metadata": {},
   "source": [
    "3) itertools.combinations()"
   ]
  },
  {
   "cell_type": "code",
   "execution_count": null,
   "metadata": {},
   "outputs": [],
   "source": [
    "from itertools import combinations\n",
    "s,k = input().split()\n",
    "\n",
    "for i in range (1,int(k)+1):\n",
    "    a = list (combinations(sorted(s),i))\n",
    "    for i in a:\n",
    "        print (\"\".join(i))\n"
   ]
  },
  {
   "cell_type": "markdown",
   "metadata": {},
   "source": [
    "4)itertools.combinations_with_replacement()"
   ]
  },
  {
   "cell_type": "code",
   "execution_count": null,
   "metadata": {},
   "outputs": [],
   "source": [
    "from itertools import combinations_with_replacement\n",
    "n,m = list(input().split())\n",
    "c =list(combinations_with_replacement(sorted(n),int(m)))\n",
    "\n",
    "for i in c:\n",
    "    print (\"\".join(i))\n"
   ]
  }
 ],
 "metadata": {
  "language_info": {
   "name": "python"
  },
  "orig_nbformat": 4
 },
 "nbformat": 4,
 "nbformat_minor": 2
}
