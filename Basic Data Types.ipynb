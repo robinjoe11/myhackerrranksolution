{
 "cells": [
  {
   "cell_type": "markdown",
   "metadata": {},
   "source": [
    "Basic Data Types:"
   ]
  },
  {
   "cell_type": "markdown",
   "metadata": {},
   "source": [
    "1)list compression"
   ]
  },
  {
   "cell_type": "code",
   "execution_count": 1,
   "metadata": {},
   "outputs": [
    {
     "ename": "ValueError",
     "evalue": "invalid literal for int() with base 10: ''",
     "output_type": "error",
     "traceback": [
      "\u001b[1;31m---------------------------------------------------------------------------\u001b[0m",
      "\u001b[1;31mValueError\u001b[0m                                Traceback (most recent call last)",
      "Cell \u001b[1;32mIn [1], line 2\u001b[0m\n\u001b[0;32m      1\u001b[0m \u001b[39mif\u001b[39;00m \u001b[39m__name__\u001b[39m \u001b[39m==\u001b[39m \u001b[39m'\u001b[39m\u001b[39m__main__\u001b[39m\u001b[39m'\u001b[39m:\n\u001b[1;32m----> 2\u001b[0m     x \u001b[39m=\u001b[39m \u001b[39mint\u001b[39;49m(\u001b[39minput\u001b[39;49m())\n\u001b[0;32m      3\u001b[0m     y \u001b[39m=\u001b[39m \u001b[39mint\u001b[39m(\u001b[39minput\u001b[39m())\n\u001b[0;32m      4\u001b[0m     z \u001b[39m=\u001b[39m \u001b[39mint\u001b[39m(\u001b[39minput\u001b[39m())\n",
      "\u001b[1;31mValueError\u001b[0m: invalid literal for int() with base 10: ''"
     ]
    }
   ],
   "source": [
    "if __name__ == '__main__':\n",
    "    x = int(input())\n",
    "    y = int(input())\n",
    "    z = int(input())\n",
    "    n = int(input())\n",
    "    list1 =list([i,j,k] for i in range (x+1) for j in range(y+1) for k in range (z+1))\n",
    "    new_list = []\n",
    "    for list_1 in list1 :\n",
    "        total = 0\n",
    "        for element in range(0, len(list_1)):\n",
    "            total = total +list_1[element]\n",
    "        if total != n:\n",
    "            new_list.append(list_1)\n",
    "    print(new_list)\n"
   ]
  },
  {
   "cell_type": "markdown",
   "metadata": {},
   "source": [
    "2) Find the Runner-Up Score!"
   ]
  },
  {
   "cell_type": "code",
   "execution_count": null,
   "metadata": {},
   "outputs": [],
   "source": [
    "if __name__ == '__main__':\n",
    "    n = int(input())\n",
    "    arr = map(int, input().split())\n",
    "    new_arr = list (set(arr))\n",
    "    first_n = max(new_arr[0],new_arr[1])\n",
    "    second_n =min(new_arr[0],new_arr[1])\n",
    "    list_lenght =len(new_arr)\n",
    "    for element in range (2, list_lenght):\n",
    "        if new_arr[element] > first_n:\n",
    "            second_n = first_n\n",
    "            first_n =new_arr[element]\n",
    "        elif new_arr[element] > second_n:\n",
    "            second_n =new_arr[element]\n",
    "    print (second_n)\n"
   ]
  },
  {
   "cell_type": "markdown",
   "metadata": {},
   "source": [
    "3)Nested list"
   ]
  },
  {
   "cell_type": "code",
   "execution_count": null,
   "metadata": {},
   "outputs": [],
   "source": [
    "l = []\n",
    "second_lowest_names = []\n",
    "scores = set()\n",
    "\n",
    "for _ in range(int(input())):\n",
    "    name = input()\n",
    "    score = float(input())\n",
    "    l.append([name, score])\n",
    "    scores.add(score)\n",
    "        \n",
    "second_lowest = sorted(scores)[1]\n",
    "\n",
    "for name, score in l:\n",
    "    if score == second_lowest:\n",
    "        second_lowest_names.append(name)\n",
    "\n",
    "for name in sorted(second_lowest_names):\n",
    "    print(name, end='\\n')\n"
   ]
  },
  {
   "cell_type": "markdown",
   "metadata": {},
   "source": [
    "4) Finding the Percentage"
   ]
  },
  {
   "cell_type": "code",
   "execution_count": null,
   "metadata": {},
   "outputs": [],
   "source": [
    "if __name__ == '__main__':\n",
    "    n = int(input())\n",
    "    student_marks = {}\n",
    "    for _ in range(n):\n",
    "        name, *line = input().split()\n",
    "        scores = list(map(float, line))\n",
    "        student_marks[name] = scores\n",
    "    query_name = input()\n",
    "    name_score = student_marks[query_name]\n",
    "    total = sum(name_score)\n",
    "    result =total/ len(name_score)\n",
    "    print (\"%.2f\" %result)\n"
   ]
  },
  {
   "cell_type": "markdown",
   "metadata": {},
   "source": [
    "5) Lists"
   ]
  },
  {
   "cell_type": "code",
   "execution_count": null,
   "metadata": {},
   "outputs": [],
   "source": [
    "if __name__ == '__main__':\n",
    "    N = int(input())\n",
    "    \n",
    "    \n",
    "    cmd_lst = []\n",
    "    for i in range(N):\n",
    "        s = str(input()).split(' ')\n",
    "        cmd_lst.append(s)\n",
    "        \n",
    "    mylist = []\n",
    "    for i in cmd_lst:\n",
    "        if len(i) == 3:\n",
    "            pos = int(i[1])\n",
    "            num = int(i[2])\n",
    "            mylist.insert(pos, num)\n",
    "        elif len(i) == 2:\n",
    "           if i[0] == 'remove':\n",
    "            mylist.remove(int(i[1]))\n",
    "           else:\n",
    "            mylist.append(int(i[1]))\n",
    "        elif len(i) == 1:\n",
    "            if i[0] == 'sort':\n",
    "                mylist.sort()\n",
    "            elif i[0] == 'pop':\n",
    "                mylist.pop()\n",
    "            elif i[0] == 'reverse':\n",
    "                mylist.reverse()\n",
    "            else:\n",
    "                print(mylist)\n",
    "                  \n",
    "\n"
   ]
  }
 ],
 "metadata": {
  "kernelspec": {
   "display_name": "Python 3.10.2 64-bit",
   "language": "python",
   "name": "python3"
  },
  "language_info": {
   "codemirror_mode": {
    "name": "ipython",
    "version": 3
   },
   "file_extension": ".py",
   "mimetype": "text/x-python",
   "name": "python",
   "nbconvert_exporter": "python",
   "pygments_lexer": "ipython3",
   "version": "3.10.2"
  },
  "orig_nbformat": 4,
  "vscode": {
   "interpreter": {
    "hash": "e1951bf4f1e4a54478a85c93f8dddae7818183ab5295aaafecafdf6faf422790"
   }
  }
 },
 "nbformat": 4,
 "nbformat_minor": 2
}
