{
 "cells": [
  {
   "cell_type": "markdown",
   "metadata": {},
   "source": [
    "Collections"
   ]
  },
  {
   "cell_type": "markdown",
   "metadata": {},
   "source": [
    "collections.Counter()"
   ]
  },
  {
   "cell_type": "code",
   "execution_count": null,
   "metadata": {},
   "outputs": [],
   "source": [
    "from collections import Counter\n",
    "x= input()\n",
    "size = input().split()\n",
    "n =int(input())\n",
    "buyer=[]\n",
    "\n",
    "for i in range(n):\n",
    "    buyer.append(input().split())\n",
    "    \n",
    "shoes = Counter(size)\n",
    "money = 0 \n",
    "\n",
    "for i in buyer:\n",
    "    if i [0] in shoes.keys() and shoes[i[0]] !=0 :\n",
    "        money += int(i[1])\n",
    "        shoes[i[0]] -=1\n",
    "        \n",
    "print(money)\n"
   ]
  },
  {
   "cell_type": "markdown",
   "metadata": {},
   "source": [
    "Colleions.namedtuple()"
   ]
  },
  {
   "cell_type": "code",
   "execution_count": null,
   "metadata": {},
   "outputs": [],
   "source": [
    "from collections import namedtuple\n",
    "\n",
    "n = int(input())\n",
    "Student = namedtuple('Student', \",\".join(input().split()))\n",
    "print(sum([int(Student(*input().split()).MARKS) for _ in range(n)])/n)\n"
   ]
  },
  {
   "cell_type": "markdown",
   "metadata": {},
   "source": [
    "Collections.OrderedDict()"
   ]
  },
  {
   "cell_type": "code",
   "execution_count": null,
   "metadata": {},
   "outputs": [],
   "source": [
    "\n",
    "from collections import OrderedDict\n",
    "\n",
    "N = int(input())\n",
    "d = OrderedDict()\n",
    "for line in range(N):\n",
    "    x, y = input().rsplit(' ', 1)\n",
    "    d[x] = d.get(x, 0) + int(y)\n",
    "\n",
    "for k,v in d.items():\n",
    "    print(k,v)"
   ]
  },
  {
   "cell_type": "markdown",
   "metadata": {},
   "source": [
    "Collections.deque()"
   ]
  },
  {
   "cell_type": "code",
   "execution_count": null,
   "metadata": {},
   "outputs": [],
   "source": [
    "from collections import deque\n",
    "N = int(input())\n",
    "deque_lst = deque()\n",
    "\n",
    "methods = list(map(str, (input() for i in range(N))))\n",
    "\n",
    "\n",
    "for i in range(N):\n",
    "    m = methods[i].split()\n",
    "    if m[0] == 'pop':\n",
    "        deque_lst.pop()\n",
    "    elif m[0] == 'popleft':\n",
    "        deque_lst.popleft() \n",
    "    elif m[0] == 'append':\n",
    "        deque_lst.append(int(m[1]))\n",
    "    elif m[0] == 'appendleft':\n",
    "        deque_lst.appendleft(int(m[1]))\n",
    "for i in deque_lst:\n",
    "    print(i, end = \" \")"
   ]
  }
 ],
 "metadata": {
  "language_info": {
   "name": "python"
  },
  "orig_nbformat": 4
 },
 "nbformat": 4,
 "nbformat_minor": 2
}
